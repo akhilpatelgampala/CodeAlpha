{
  "cells": [
    {
      "cell_type": "markdown",
      "metadata": {
        "id": "view-in-github",
        "colab_type": "text"
      },
      "source": [
        "<a href=\"https://colab.research.google.com/github/akhilpatelgampala/CodeAlpha/blob/main/plot_cross_session_motor_imagery.ipynb\" target=\"_parent\"><img src=\"https://colab.research.google.com/assets/colab-badge.svg\" alt=\"Open In Colab\"/></a>"
      ]
    },
    {
      "cell_type": "code",
      "execution_count": 1,
      "metadata": {
        "id": "NhIEfZLjs_j2"
      },
      "outputs": [],
      "source": [
        "%matplotlib inline"
      ]
    },
    {
      "cell_type": "code",
      "execution_count": 2,
      "metadata": {
        "colab": {
          "base_uri": "https://localhost:8080/"
        },
        "id": "drOPeTe9tBFB",
        "outputId": "cb561e5e-1196-4ba0-c472-cf128f205053"
      },
      "outputs": [
        {
          "output_type": "stream",
          "name": "stdout",
          "text": [
            "Collecting mne\n",
            "  Downloading mne-1.6.1-py3-none-any.whl (8.3 MB)\n",
            "\u001b[2K     \u001b[90m━━━━━━━━━━━━━━━━━━━━━━━━━━━━━━━━━━━━━━━━\u001b[0m \u001b[32m8.3/8.3 MB\u001b[0m \u001b[31m13.9 MB/s\u001b[0m eta \u001b[36m0:00:00\u001b[0m\n",
            "\u001b[?25hRequirement already satisfied: numpy>=1.21.2 in /usr/local/lib/python3.10/dist-packages (from mne) (1.25.2)\n",
            "Requirement already satisfied: scipy>=1.7.1 in /usr/local/lib/python3.10/dist-packages (from mne) (1.11.4)\n",
            "Requirement already satisfied: matplotlib>=3.5.0 in /usr/local/lib/python3.10/dist-packages (from mne) (3.7.1)\n",
            "Requirement already satisfied: tqdm in /usr/local/lib/python3.10/dist-packages (from mne) (4.66.2)\n",
            "Requirement already satisfied: pooch>=1.5 in /usr/local/lib/python3.10/dist-packages (from mne) (1.8.1)\n",
            "Requirement already satisfied: decorator in /usr/local/lib/python3.10/dist-packages (from mne) (4.4.2)\n",
            "Requirement already satisfied: packaging in /usr/local/lib/python3.10/dist-packages (from mne) (24.0)\n",
            "Requirement already satisfied: jinja2 in /usr/local/lib/python3.10/dist-packages (from mne) (3.1.3)\n",
            "Requirement already satisfied: lazy-loader>=0.3 in /usr/local/lib/python3.10/dist-packages (from mne) (0.3)\n",
            "Requirement already satisfied: contourpy>=1.0.1 in /usr/local/lib/python3.10/dist-packages (from matplotlib>=3.5.0->mne) (1.2.0)\n",
            "Requirement already satisfied: cycler>=0.10 in /usr/local/lib/python3.10/dist-packages (from matplotlib>=3.5.0->mne) (0.12.1)\n",
            "Requirement already satisfied: fonttools>=4.22.0 in /usr/local/lib/python3.10/dist-packages (from matplotlib>=3.5.0->mne) (4.50.0)\n",
            "Requirement already satisfied: kiwisolver>=1.0.1 in /usr/local/lib/python3.10/dist-packages (from matplotlib>=3.5.0->mne) (1.4.5)\n",
            "Requirement already satisfied: pillow>=6.2.0 in /usr/local/lib/python3.10/dist-packages (from matplotlib>=3.5.0->mne) (9.4.0)\n",
            "Requirement already satisfied: pyparsing>=2.3.1 in /usr/local/lib/python3.10/dist-packages (from matplotlib>=3.5.0->mne) (3.1.2)\n",
            "Requirement already satisfied: python-dateutil>=2.7 in /usr/local/lib/python3.10/dist-packages (from matplotlib>=3.5.0->mne) (2.8.2)\n",
            "Requirement already satisfied: platformdirs>=2.5.0 in /usr/local/lib/python3.10/dist-packages (from pooch>=1.5->mne) (4.2.0)\n",
            "Requirement already satisfied: requests>=2.19.0 in /usr/local/lib/python3.10/dist-packages (from pooch>=1.5->mne) (2.31.0)\n",
            "Requirement already satisfied: MarkupSafe>=2.0 in /usr/local/lib/python3.10/dist-packages (from jinja2->mne) (2.1.5)\n",
            "Requirement already satisfied: six>=1.5 in /usr/local/lib/python3.10/dist-packages (from python-dateutil>=2.7->matplotlib>=3.5.0->mne) (1.16.0)\n",
            "Requirement already satisfied: charset-normalizer<4,>=2 in /usr/local/lib/python3.10/dist-packages (from requests>=2.19.0->pooch>=1.5->mne) (3.3.2)\n",
            "Requirement already satisfied: idna<4,>=2.5 in /usr/local/lib/python3.10/dist-packages (from requests>=2.19.0->pooch>=1.5->mne) (3.6)\n",
            "Requirement already satisfied: urllib3<3,>=1.21.1 in /usr/local/lib/python3.10/dist-packages (from requests>=2.19.0->pooch>=1.5->mne) (2.0.7)\n",
            "Requirement already satisfied: certifi>=2017.4.17 in /usr/local/lib/python3.10/dist-packages (from requests>=2.19.0->pooch>=1.5->mne) (2024.2.2)\n",
            "Installing collected packages: mne\n",
            "Successfully installed mne-1.6.1\n"
          ]
        }
      ],
      "source": [
        "pip install mne"
      ]
    },
    {
      "cell_type": "markdown",
      "metadata": {
        "id": "1vRX2tX6s_j2"
      },
      "source": [
        "\n",
        "# Cross-Session Motor Imagery\n",
        "\n",
        "This example show how to perform a cross session motor imagery analysis on the\n",
        "very popular dataset 2a from the BCI competition IV.\n",
        "\n",
        "We will compare two pipelines :\n",
        "\n",
        "- CSP+LDA\n",
        "- Riemannian Geometry+Logistic Regression\n",
        "\n",
        "We will use the LeftRightImagery paradigm. This will restrict the analysis\n",
        "to two classes (left hand versus right hand) and use AUC as metric.\n",
        "\n",
        "The cross session evaluation context will evaluate performance using a leave\n",
        "one session out cross-validation. For each session in the dataset, a model\n",
        "is trained on every other session and performance are evaluated on the current\n",
        "session.\n"
      ]
    },
    {
      "cell_type": "code",
      "execution_count": 3,
      "metadata": {
        "colab": {
          "base_uri": "https://localhost:8080/"
        },
        "id": "yYGYYDA3tEVE",
        "outputId": "a6095089-e30e-49db-d68b-eb25ed1b2e6f"
      },
      "outputs": [
        {
          "output_type": "stream",
          "name": "stdout",
          "text": [
            "Collecting moabb\n",
            "  Downloading moabb-1.0.0-py3-none-any.whl (563 kB)\n",
            "\u001b[?25l     \u001b[90m━━━━━━━━━━━━━━━━━━━━━━━━━━━━━━━━━━━━━━━━\u001b[0m \u001b[32m0.0/563.8 kB\u001b[0m \u001b[31m?\u001b[0m eta \u001b[36m-:--:--\u001b[0m\r\u001b[2K     \u001b[91m━━━━━━━━\u001b[0m\u001b[91m╸\u001b[0m\u001b[90m━━━━━━━━━━━━━━━━━━━━━━━━━━━━━━━\u001b[0m \u001b[32m122.9/563.8 kB\u001b[0m \u001b[31m3.5 MB/s\u001b[0m eta \u001b[36m0:00:01\u001b[0m\r\u001b[2K     \u001b[91m━━━━━━━━━━━━━━━━━━━━━━━━━━━━━━━━━━\u001b[0m\u001b[91m╸\u001b[0m\u001b[90m━━━━━\u001b[0m \u001b[32m491.5/563.8 kB\u001b[0m \u001b[31m7.2 MB/s\u001b[0m eta \u001b[36m0:00:01\u001b[0m\r\u001b[2K     \u001b[90m━━━━━━━━━━━━━━━━━━━━━━━━━━━━━━━━━━━━━━━━\u001b[0m \u001b[32m563.8/563.8 kB\u001b[0m \u001b[31m6.5 MB/s\u001b[0m eta \u001b[36m0:00:00\u001b[0m\n",
            "\u001b[?25hRequirement already satisfied: PyYAML<7.0,>=6.0 in /usr/local/lib/python3.10/dist-packages (from moabb) (6.0.1)\n",
            "Collecting coverage<8.0.0,>=7.0.1 (from moabb)\n",
            "  Downloading coverage-7.4.4-cp310-cp310-manylinux_2_5_x86_64.manylinux1_x86_64.manylinux_2_17_x86_64.manylinux2014_x86_64.whl (233 kB)\n",
            "\u001b[2K     \u001b[90m━━━━━━━━━━━━━━━━━━━━━━━━━━━━━━━━━━━━━━━━\u001b[0m \u001b[32m233.5/233.5 kB\u001b[0m \u001b[31m2.6 MB/s\u001b[0m eta \u001b[36m0:00:00\u001b[0m\n",
            "\u001b[?25hCollecting edflib-python<2.0.0,>=1.0.6 (from moabb)\n",
            "  Downloading EDFlib_Python-1.0.8-py3-none-any.whl (26 kB)\n",
            "Collecting h5py<=3.8.0 (from moabb)\n",
            "  Downloading h5py-3.8.0-cp310-cp310-manylinux_2_17_x86_64.manylinux2014_x86_64.whl (4.6 MB)\n",
            "\u001b[2K     \u001b[90m━━━━━━━━━━━━━━━━━━━━━━━━━━━━━━━━━━━━━━━━\u001b[0m \u001b[32m4.6/4.6 MB\u001b[0m \u001b[31m16.5 MB/s\u001b[0m eta \u001b[36m0:00:00\u001b[0m\n",
            "\u001b[?25hRequirement already satisfied: matplotlib<4.0.0,>=3.6.2 in /usr/local/lib/python3.10/dist-packages (from moabb) (3.7.1)\n",
            "Collecting memory-profiler<0.62.0,>=0.61.0 (from moabb)\n",
            "  Downloading memory_profiler-0.61.0-py3-none-any.whl (31 kB)\n",
            "Requirement already satisfied: mne<2.0,>=1.4 in /usr/local/lib/python3.10/dist-packages (from moabb) (1.6.1)\n",
            "Collecting mne-bids<0.14,>=0.13 (from moabb)\n",
            "  Downloading mne_bids-0.13-py2.py3-none-any.whl (1.2 MB)\n",
            "\u001b[2K     \u001b[90m━━━━━━━━━━━━━━━━━━━━━━━━━━━━━━━━━━━━━━━━\u001b[0m \u001b[32m1.2/1.2 MB\u001b[0m \u001b[31m20.3 MB/s\u001b[0m eta \u001b[36m0:00:00\u001b[0m\n",
            "\u001b[?25hRequirement already satisfied: numpy<2.0,>=1.22 in /usr/local/lib/python3.10/dist-packages (from moabb) (1.25.2)\n",
            "Requirement already satisfied: pandas<2.0.0,>=1.5.2 in /usr/local/lib/python3.10/dist-packages (from moabb) (1.5.3)\n",
            "Requirement already satisfied: pooch<2.0.0,>=1.6.0 in /usr/local/lib/python3.10/dist-packages (from moabb) (1.8.1)\n",
            "Collecting pyriemann<0.6,>=0.5 (from moabb)\n",
            "  Downloading pyriemann-0.5.tar.gz (119 kB)\n",
            "\u001b[2K     \u001b[90m━━━━━━━━━━━━━━━━━━━━━━━━━━━━━━━━━━━━━━━━\u001b[0m \u001b[32m119.2/119.2 kB\u001b[0m \u001b[31m15.4 MB/s\u001b[0m eta \u001b[36m0:00:00\u001b[0m\n",
            "\u001b[?25h  Preparing metadata (setup.py) ... \u001b[?25l\u001b[?25hdone\n",
            "Requirement already satisfied: pytest<8.0.0,>=7.4.0 in /usr/local/lib/python3.10/dist-packages (from moabb) (7.4.4)\n",
            "Requirement already satisfied: requests<3.0.0,>=2.28.1 in /usr/local/lib/python3.10/dist-packages (from moabb) (2.31.0)\n",
            "Requirement already satisfied: scikit-learn<2.0.0,>=1.2.0 in /usr/local/lib/python3.10/dist-packages (from moabb) (1.2.2)\n",
            "Requirement already satisfied: scipy<2.0.0,>=1.9.3 in /usr/local/lib/python3.10/dist-packages (from moabb) (1.11.4)\n",
            "Collecting seaborn<0.13.0,>=0.12.1 (from moabb)\n",
            "  Downloading seaborn-0.12.2-py3-none-any.whl (293 kB)\n",
            "\u001b[2K     \u001b[90m━━━━━━━━━━━━━━━━━━━━━━━━━━━━━━━━━━━━━━━━\u001b[0m \u001b[32m293.3/293.3 kB\u001b[0m \u001b[31m27.1 MB/s\u001b[0m eta \u001b[36m0:00:00\u001b[0m\n",
            "\u001b[?25hRequirement already satisfied: tqdm<5.0.0,>=4.64.1 in /usr/local/lib/python3.10/dist-packages (from moabb) (4.66.2)\n",
            "Collecting urllib3<2.0.0,>=1.26.15 (from moabb)\n",
            "  Downloading urllib3-1.26.18-py2.py3-none-any.whl (143 kB)\n",
            "\u001b[2K     \u001b[90m━━━━━━━━━━━━━━━━━━━━━━━━━━━━━━━━━━━━━━━━\u001b[0m \u001b[32m143.8/143.8 kB\u001b[0m \u001b[31m14.7 MB/s\u001b[0m eta \u001b[36m0:00:00\u001b[0m\n",
            "\u001b[?25hRequirement already satisfied: contourpy>=1.0.1 in /usr/local/lib/python3.10/dist-packages (from matplotlib<4.0.0,>=3.6.2->moabb) (1.2.0)\n",
            "Requirement already satisfied: cycler>=0.10 in /usr/local/lib/python3.10/dist-packages (from matplotlib<4.0.0,>=3.6.2->moabb) (0.12.1)\n",
            "Requirement already satisfied: fonttools>=4.22.0 in /usr/local/lib/python3.10/dist-packages (from matplotlib<4.0.0,>=3.6.2->moabb) (4.50.0)\n",
            "Requirement already satisfied: kiwisolver>=1.0.1 in /usr/local/lib/python3.10/dist-packages (from matplotlib<4.0.0,>=3.6.2->moabb) (1.4.5)\n",
            "Requirement already satisfied: packaging>=20.0 in /usr/local/lib/python3.10/dist-packages (from matplotlib<4.0.0,>=3.6.2->moabb) (24.0)\n",
            "Requirement already satisfied: pillow>=6.2.0 in /usr/local/lib/python3.10/dist-packages (from matplotlib<4.0.0,>=3.6.2->moabb) (9.4.0)\n",
            "Requirement already satisfied: pyparsing>=2.3.1 in /usr/local/lib/python3.10/dist-packages (from matplotlib<4.0.0,>=3.6.2->moabb) (3.1.2)\n",
            "Requirement already satisfied: python-dateutil>=2.7 in /usr/local/lib/python3.10/dist-packages (from matplotlib<4.0.0,>=3.6.2->moabb) (2.8.2)\n",
            "Requirement already satisfied: psutil in /usr/local/lib/python3.10/dist-packages (from memory-profiler<0.62.0,>=0.61.0->moabb) (5.9.5)\n",
            "Requirement already satisfied: decorator in /usr/local/lib/python3.10/dist-packages (from mne<2.0,>=1.4->moabb) (4.4.2)\n",
            "Requirement already satisfied: jinja2 in /usr/local/lib/python3.10/dist-packages (from mne<2.0,>=1.4->moabb) (3.1.3)\n",
            "Requirement already satisfied: lazy-loader>=0.3 in /usr/local/lib/python3.10/dist-packages (from mne<2.0,>=1.4->moabb) (0.3)\n",
            "Requirement already satisfied: pytz>=2020.1 in /usr/local/lib/python3.10/dist-packages (from pandas<2.0.0,>=1.5.2->moabb) (2023.4)\n",
            "Requirement already satisfied: platformdirs>=2.5.0 in /usr/local/lib/python3.10/dist-packages (from pooch<2.0.0,>=1.6.0->moabb) (4.2.0)\n",
            "Requirement already satisfied: joblib in /usr/local/lib/python3.10/dist-packages (from pyriemann<0.6,>=0.5->moabb) (1.3.2)\n",
            "Requirement already satisfied: iniconfig in /usr/local/lib/python3.10/dist-packages (from pytest<8.0.0,>=7.4.0->moabb) (2.0.0)\n",
            "Requirement already satisfied: pluggy<2.0,>=0.12 in /usr/local/lib/python3.10/dist-packages (from pytest<8.0.0,>=7.4.0->moabb) (1.4.0)\n",
            "Requirement already satisfied: exceptiongroup>=1.0.0rc8 in /usr/local/lib/python3.10/dist-packages (from pytest<8.0.0,>=7.4.0->moabb) (1.2.0)\n",
            "Requirement already satisfied: tomli>=1.0.0 in /usr/local/lib/python3.10/dist-packages (from pytest<8.0.0,>=7.4.0->moabb) (2.0.1)\n",
            "Requirement already satisfied: charset-normalizer<4,>=2 in /usr/local/lib/python3.10/dist-packages (from requests<3.0.0,>=2.28.1->moabb) (3.3.2)\n",
            "Requirement already satisfied: idna<4,>=2.5 in /usr/local/lib/python3.10/dist-packages (from requests<3.0.0,>=2.28.1->moabb) (3.6)\n",
            "Requirement already satisfied: certifi>=2017.4.17 in /usr/local/lib/python3.10/dist-packages (from requests<3.0.0,>=2.28.1->moabb) (2024.2.2)\n",
            "Requirement already satisfied: threadpoolctl>=2.0.0 in /usr/local/lib/python3.10/dist-packages (from scikit-learn<2.0.0,>=1.2.0->moabb) (3.3.0)\n",
            "Requirement already satisfied: six>=1.5 in /usr/local/lib/python3.10/dist-packages (from python-dateutil>=2.7->matplotlib<4.0.0,>=3.6.2->moabb) (1.16.0)\n",
            "Requirement already satisfied: MarkupSafe>=2.0 in /usr/local/lib/python3.10/dist-packages (from jinja2->mne<2.0,>=1.4->moabb) (2.1.5)\n",
            "Building wheels for collected packages: pyriemann\n",
            "  Building wheel for pyriemann (setup.py) ... \u001b[?25l\u001b[?25hdone\n",
            "  Created wheel for pyriemann: filename=pyriemann-0.5-py2.py3-none-any.whl size=107752 sha256=05182f273852db9f5d4bf71d0ac81847f2e868f4ef7b87d6ab73624a8e1c5bb8\n",
            "  Stored in directory: /root/.cache/pip/wheels/84/86/79/622e9c1dc933dc088e287ebfaac5aa9bdc6a38a9db193ce1f1\n",
            "Successfully built pyriemann\n",
            "Installing collected packages: urllib3, memory-profiler, h5py, edflib-python, coverage, seaborn, pyriemann, mne-bids, moabb\n",
            "  Attempting uninstall: urllib3\n",
            "    Found existing installation: urllib3 2.0.7\n",
            "    Uninstalling urllib3-2.0.7:\n",
            "      Successfully uninstalled urllib3-2.0.7\n",
            "  Attempting uninstall: h5py\n",
            "    Found existing installation: h5py 3.9.0\n",
            "    Uninstalling h5py-3.9.0:\n",
            "      Successfully uninstalled h5py-3.9.0\n",
            "  Attempting uninstall: seaborn\n",
            "    Found existing installation: seaborn 0.13.1\n",
            "    Uninstalling seaborn-0.13.1:\n",
            "      Successfully uninstalled seaborn-0.13.1\n",
            "Successfully installed coverage-7.4.4 edflib-python-1.0.8 h5py-3.8.0 memory-profiler-0.61.0 mne-bids-0.13 moabb-1.0.0 pyriemann-0.5 seaborn-0.12.2 urllib3-1.26.18\n"
          ]
        }
      ],
      "source": [
        "pip install moabb"
      ]
    },
    {
      "cell_type": "code",
      "execution_count": 5,
      "metadata": {
        "id": "4HInYtGps_j3"
      },
      "outputs": [],
      "source": [
        "\n",
        "\n",
        "import matplotlib.pyplot as plt\n",
        "import seaborn as sns\n",
        "from mne.decoding import CSP\n",
        "from pyriemann.estimation import Covariances\n",
        "from pyriemann.tangentspace import TangentSpace\n",
        "from sklearn.discriminant_analysis import LinearDiscriminantAnalysis as LDA\n",
        "from sklearn.linear_model import LogisticRegression\n",
        "from sklearn.pipeline import make_pipeline\n",
        "from sklearn.ensemble import RandomForestClassifier\n",
        "\n",
        "import moabb\n",
        "from moabb.datasets import BNCI2014_001\n",
        "from moabb.evaluations import CrossSessionEvaluation\n",
        "from moabb.paradigms import LeftRightImagery\n",
        "\n",
        "\n",
        "moabb.set_log_level(\"info\")"
      ]
    },
    {
      "cell_type": "markdown",
      "metadata": {
        "id": "RU7hne5Ns_j3"
      },
      "source": [
        "## Create Pipelines\n",
        "\n",
        "Pipelines must be a dict of sklearn pipeline transformer.\n",
        "\n",
        "The CSP implementation is based on the MNE implementation. We selected 8 CSP\n",
        "components, as usually done in the literature.\n",
        "\n",
        "The Riemannian geometry pipeline consists in covariance estimation, tangent\n",
        "space mapping and finally a logistic regression for the classification.\n",
        "\n"
      ]
    },
    {
      "cell_type": "code",
      "execution_count": 6,
      "metadata": {
        "id": "2YgGByAFs_j4"
      },
      "outputs": [],
      "source": [
        "pipelines = {}\n",
        "\n",
        "pipelines[\"CSP+LDA\"] = make_pipeline(CSP(n_components=8), LDA())\n",
        "\n",
        "pipelines[\"CSP+RF\"] = make_pipeline(CSP(n_components=8),RandomForestClassifier())\n",
        "\n",
        "pipelines[\"RG+LR\"] = make_pipeline(\n",
        "    Covariances(), TangentSpace(), LogisticRegression(solver=\"lbfgs\")\n",
        ")"
      ]
    },
    {
      "cell_type": "code",
      "source": [
        "pip install mne"
      ],
      "metadata": {
        "colab": {
          "base_uri": "https://localhost:8080/"
        },
        "id": "55sXc1QRaKu4",
        "outputId": "75a8d6a6-dbba-483b-f2e0-542ddea9908e"
      },
      "execution_count": 8,
      "outputs": [
        {
          "output_type": "stream",
          "name": "stdout",
          "text": [
            "Requirement already satisfied: mne in /usr/local/lib/python3.10/dist-packages (1.6.1)\n",
            "Requirement already satisfied: numpy>=1.21.2 in /usr/local/lib/python3.10/dist-packages (from mne) (1.25.2)\n",
            "Requirement already satisfied: scipy>=1.7.1 in /usr/local/lib/python3.10/dist-packages (from mne) (1.11.4)\n",
            "Requirement already satisfied: matplotlib>=3.5.0 in /usr/local/lib/python3.10/dist-packages (from mne) (3.7.1)\n",
            "Requirement already satisfied: tqdm in /usr/local/lib/python3.10/dist-packages (from mne) (4.66.2)\n",
            "Requirement already satisfied: pooch>=1.5 in /usr/local/lib/python3.10/dist-packages (from mne) (1.8.1)\n",
            "Requirement already satisfied: decorator in /usr/local/lib/python3.10/dist-packages (from mne) (4.4.2)\n",
            "Requirement already satisfied: packaging in /usr/local/lib/python3.10/dist-packages (from mne) (24.0)\n",
            "Requirement already satisfied: jinja2 in /usr/local/lib/python3.10/dist-packages (from mne) (3.1.3)\n",
            "Requirement already satisfied: lazy-loader>=0.3 in /usr/local/lib/python3.10/dist-packages (from mne) (0.3)\n",
            "Requirement already satisfied: contourpy>=1.0.1 in /usr/local/lib/python3.10/dist-packages (from matplotlib>=3.5.0->mne) (1.2.0)\n",
            "Requirement already satisfied: cycler>=0.10 in /usr/local/lib/python3.10/dist-packages (from matplotlib>=3.5.0->mne) (0.12.1)\n",
            "Requirement already satisfied: fonttools>=4.22.0 in /usr/local/lib/python3.10/dist-packages (from matplotlib>=3.5.0->mne) (4.50.0)\n",
            "Requirement already satisfied: kiwisolver>=1.0.1 in /usr/local/lib/python3.10/dist-packages (from matplotlib>=3.5.0->mne) (1.4.5)\n",
            "Requirement already satisfied: pillow>=6.2.0 in /usr/local/lib/python3.10/dist-packages (from matplotlib>=3.5.0->mne) (9.4.0)\n",
            "Requirement already satisfied: pyparsing>=2.3.1 in /usr/local/lib/python3.10/dist-packages (from matplotlib>=3.5.0->mne) (3.1.2)\n",
            "Requirement already satisfied: python-dateutil>=2.7 in /usr/local/lib/python3.10/dist-packages (from matplotlib>=3.5.0->mne) (2.8.2)\n",
            "Requirement already satisfied: platformdirs>=2.5.0 in /usr/local/lib/python3.10/dist-packages (from pooch>=1.5->mne) (4.2.0)\n",
            "Requirement already satisfied: requests>=2.19.0 in /usr/local/lib/python3.10/dist-packages (from pooch>=1.5->mne) (2.31.0)\n",
            "Requirement already satisfied: MarkupSafe>=2.0 in /usr/local/lib/python3.10/dist-packages (from jinja2->mne) (2.1.5)\n",
            "Requirement already satisfied: six>=1.5 in /usr/local/lib/python3.10/dist-packages (from python-dateutil>=2.7->matplotlib>=3.5.0->mne) (1.16.0)\n",
            "Requirement already satisfied: charset-normalizer<4,>=2 in /usr/local/lib/python3.10/dist-packages (from requests>=2.19.0->pooch>=1.5->mne) (3.3.2)\n",
            "Requirement already satisfied: idna<4,>=2.5 in /usr/local/lib/python3.10/dist-packages (from requests>=2.19.0->pooch>=1.5->mne) (3.6)\n",
            "Requirement already satisfied: urllib3<3,>=1.21.1 in /usr/local/lib/python3.10/dist-packages (from requests>=2.19.0->pooch>=1.5->mne) (1.26.18)\n",
            "Requirement already satisfied: certifi>=2017.4.17 in /usr/local/lib/python3.10/dist-packages (from requests>=2.19.0->pooch>=1.5->mne) (2024.2.2)\n"
          ]
        }
      ]
    },
    {
      "cell_type": "code",
      "source": [
        "mkdir /root/mne_data"
      ],
      "metadata": {
        "id": "HPC4fDW0aYej"
      },
      "execution_count": 11,
      "outputs": []
    },
    {
      "cell_type": "markdown",
      "metadata": {
        "id": "XejmG9lRs_j4"
      },
      "source": [
        "## Evaluation\n",
        "\n",
        "We define the paradigm (LeftRightImagery) and the dataset (BNCI2014_001).\n",
        "The evaluation will return a DataFrame containing a single AUC score for\n",
        "each subject / session of the dataset, and for each pipeline.\n",
        "\n",
        "Results are saved into the database, so that if you add a new pipeline, it\n",
        "will not run again the evaluation unless a parameter has changed. Results can\n",
        "be overwritten if necessary.\n",
        "\n"
      ]
    },
    {
      "cell_type": "code",
      "execution_count": 12,
      "metadata": {
        "id": "e9k7o33ds_j4",
        "colab": {
          "base_uri": "https://localhost:8080/"
        },
        "outputId": "8742bb9f-2602-4f8b-c640-1a73cfd445b2"
      },
      "outputs": [
        {
          "output_type": "stream",
          "name": "stderr",
          "text": [
            "\rBNCI2014-001-CrossSession:   0%|          | 0/2 [00:00<?, ?it/s]/usr/local/lib/python3.10/dist-packages/moabb/datasets/download.py:55: RuntimeWarning: Setting non-standard config type: \"MNE_DATASETS_BNCI_PATH\"\n",
            "  set_config(key, get_config(\"MNE_DATA\"))\n",
            "Downloading data from 'http://bnci-horizon-2020.eu/database/data-sets/001-2014/A01T.mat' to file '/root/mne_data/MNE-bnci-data/database/data-sets/001-2014/A01T.mat'.\n"
          ]
        },
        {
          "output_type": "stream",
          "name": "stdout",
          "text": [
            "MNE_DATA is not already configured. It will be set to default location in the home directory - /root/mne_data\n",
            "All datasets will be downloaded to this location, if anything is already downloaded, please move manually to this location\n"
          ]
        },
        {
          "output_type": "stream",
          "name": "stderr",
          "text": [
            "/usr/local/lib/python3.10/dist-packages/urllib3/connectionpool.py:1061: InsecureRequestWarning: Unverified HTTPS request is being made to host 'lampx.tugraz.at'. Adding certificate verification is strongly advised. See: https://urllib3.readthedocs.io/en/1.26.x/advanced-usage.html#ssl-warnings\n",
            "  warnings.warn(\n",
            "\n",
            "  0%|                                              | 0.00/42.8M [00:00<?, ?B/s]\u001b[A\n",
            "  0%|                                     | 8.19k/42.8M [00:00<09:24, 75.9kB/s]\u001b[A\n",
            "  0%|                                      | 32.8k/42.8M [00:00<04:33, 156kB/s]\u001b[A\n",
            "  0%|                                      | 88.1k/42.8M [00:00<02:21, 301kB/s]\u001b[A\n",
            "  0%|▏                                      | 201k/42.8M [00:00<01:15, 562kB/s]\u001b[A\n",
            "  1%|▍                                     | 424k/42.8M [00:00<00:40, 1.05MB/s]\u001b[A\n",
            "  2%|▊                                     | 881k/42.8M [00:00<00:20, 2.01MB/s]\u001b[A\n",
            "  4%|█▌                                   | 1.78M/42.8M [00:00<00:10, 3.84MB/s]\u001b[A\n",
            "  8%|███                                  | 3.58M/42.8M [00:00<00:05, 7.51MB/s]\u001b[A\n",
            " 14%|█████▏                               | 6.06M/42.8M [00:01<00:03, 11.7MB/s]\u001b[A\n",
            " 19%|███████                              | 8.22M/42.8M [00:01<00:02, 13.7MB/s]\u001b[A\n",
            " 25%|█████████▏                           | 10.6M/42.8M [00:01<00:02, 15.7MB/s]\u001b[A\n",
            " 30%|███████████▏                         | 12.9M/42.8M [00:01<00:01, 16.8MB/s]\u001b[A\n",
            " 36%|█████████████▏                       | 15.2M/42.8M [00:01<00:01, 17.8MB/s]\u001b[A\n",
            " 41%|███████████████▏                     | 17.5M/42.8M [00:01<00:01, 18.3MB/s]\u001b[A\n",
            " 46%|█████████████████▏                   | 19.8M/42.8M [00:01<00:01, 18.7MB/s]\u001b[A\n",
            " 52%|███████████████████▏                 | 22.2M/42.8M [00:01<00:01, 19.1MB/s]\u001b[A\n",
            " 57%|█████████████████████                | 24.3M/42.8M [00:01<00:00, 18.7MB/s]\u001b[A\n",
            " 62%|███████████████████████              | 26.7M/42.8M [00:02<00:00, 19.2MB/s]\u001b[A\n",
            " 68%|█████████████████████████            | 29.0M/42.8M [00:02<00:00, 19.3MB/s]\u001b[A\n",
            " 73%|███████████████████████████          | 31.3M/42.8M [00:02<00:00, 19.3MB/s]\u001b[A\n",
            " 79%|█████████████████████████████▏       | 33.8M/42.8M [00:02<00:00, 19.7MB/s]\u001b[A\n",
            " 84%|███████████████████████████████▏     | 36.1M/42.8M [00:02<00:00, 19.8MB/s]\u001b[A\n",
            " 90%|█████████████████████████████████▎   | 38.5M/42.8M [00:02<00:00, 19.9MB/s]\u001b[A\n",
            " 95%|███████████████████████████████████▎ | 40.8M/42.8M [00:02<00:00, 19.8MB/s]\u001b[A\n",
            "100%|█████████████████████████████████████| 42.8M/42.8M [00:00<00:00, 7.15GB/s]\n",
            "SHA256 hash of downloaded file: 054f02e70cf9c4ada1517e9b9864f45407939c1062c6793516585c6f511d0325\n",
            "Use this value as the 'known_hash' argument of 'pooch.retrieve' to ensure that the file hasn't changed if it is downloaded again in the future.\n",
            "Downloading data from 'http://bnci-horizon-2020.eu/database/data-sets/001-2014/A01E.mat' to file '/root/mne_data/MNE-bnci-data/database/data-sets/001-2014/A01E.mat'.\n",
            "/usr/local/lib/python3.10/dist-packages/urllib3/connectionpool.py:1061: InsecureRequestWarning: Unverified HTTPS request is being made to host 'lampx.tugraz.at'. Adding certificate verification is strongly advised. See: https://urllib3.readthedocs.io/en/1.26.x/advanced-usage.html#ssl-warnings\n",
            "  warnings.warn(\n",
            "\n",
            "  0%|                                              | 0.00/43.8M [00:00<?, ?B/s]\u001b[A\n",
            "  0%|                                     | 8.19k/43.8M [00:00<09:36, 75.9kB/s]\u001b[A\n",
            "  0%|                                      | 32.8k/43.8M [00:00<04:38, 157kB/s]\u001b[A\n",
            "  0%|                                      | 96.3k/43.8M [00:00<02:10, 335kB/s]\u001b[A\n",
            "  0%|▏                                      | 193k/43.8M [00:00<01:22, 528kB/s]\u001b[A\n",
            "  1%|▎                                     | 409k/43.8M [00:00<00:43, 1.00MB/s]\u001b[A\n",
            "  2%|▋                                     | 841k/43.8M [00:00<00:22, 1.91MB/s]\u001b[A\n",
            "  4%|█▍                                   | 1.71M/43.8M [00:00<00:11, 3.71MB/s]\u001b[A\n",
            "  8%|██▉                                  | 3.41M/43.8M [00:00<00:05, 7.12MB/s]\u001b[A\n",
            " 13%|████▊                                | 5.73M/43.8M [00:01<00:03, 11.0MB/s]\u001b[A\n",
            " 18%|██████▌                              | 7.70M/43.8M [00:01<00:02, 12.8MB/s]\u001b[A\n",
            " 23%|████████▎                            | 9.87M/43.8M [00:01<00:02, 14.5MB/s]\u001b[A\n",
            " 27%|██████████                           | 11.9M/43.8M [00:01<00:02, 15.5MB/s]\u001b[A\n",
            " 32%|███████████▉                         | 14.2M/43.8M [00:01<00:01, 16.6MB/s]\u001b[A\n",
            " 37%|█████████████▊                       | 16.3M/43.8M [00:01<00:01, 16.9MB/s]\u001b[A\n",
            " 42%|███████████████▋                     | 18.6M/43.8M [00:01<00:01, 17.7MB/s]\u001b[A\n",
            " 48%|█████████████████▌                   | 20.8M/43.8M [00:01<00:01, 18.1MB/s]\u001b[A\n",
            " 53%|███████████████████▌                 | 23.1M/43.8M [00:01<00:01, 18.5MB/s]\u001b[A\n",
            " 58%|█████████████████████▍               | 25.4M/43.8M [00:02<00:00, 18.8MB/s]\u001b[A\n",
            " 63%|███████████████████████▎             | 27.5M/43.8M [00:02<00:00, 18.5MB/s]\u001b[A\n",
            " 68%|█████████████████████████▎           | 30.0M/43.8M [00:02<00:00, 19.1MB/s]\u001b[A\n",
            " 73%|███████████████████████████          | 32.0M/43.8M [00:02<00:00, 18.5MB/s]\u001b[A\n",
            " 79%|█████████████████████████████▏       | 34.6M/43.8M [00:02<00:00, 19.5MB/s]\u001b[A\n",
            " 84%|███████████████████████████████      | 36.7M/43.8M [00:02<00:00, 19.2MB/s]\u001b[A\n",
            " 89%|████████████████████████████████▉    | 39.0M/43.8M [00:02<00:00, 19.2MB/s]\u001b[A\n",
            " 94%|██████████████████████████████████▉  | 41.3M/43.8M [00:02<00:00, 19.4MB/s]\u001b[A\n",
            " 99%|████████████████████████████████████▊| 43.6M/43.8M [00:03<00:00, 19.2MB/s]\u001b[A\n",
            "100%|█████████████████████████████████████| 43.8M/43.8M [00:00<00:00, 5.43GB/s]\n",
            "SHA256 hash of downloaded file: 53d415f39c3d7b0c88b894d7b08d99bcdfe855ede63831d3691af1a45607fb62\n",
            "Use this value as the 'known_hash' argument of 'pooch.retrieve' to ensure that the file hasn't changed if it is downloaded again in the future.\n",
            "/usr/local/lib/python3.10/dist-packages/sklearn/preprocessing/_function_transformer.py:310: FutureWarning: The current default of copy=False will change to copy=True in 1.7. Set the value of copy explicitly to avoid this warning\n",
            "  return func(X, **(kw_args if kw_args else {}))\n",
            "/usr/local/lib/python3.10/dist-packages/sklearn/preprocessing/_function_transformer.py:310: FutureWarning: The current default of copy=False will change to copy=True in 1.7. Set the value of copy explicitly to avoid this warning\n",
            "  return func(X, **(kw_args if kw_args else {}))\n",
            "/usr/local/lib/python3.10/dist-packages/sklearn/preprocessing/_function_transformer.py:310: FutureWarning: The current default of copy=False will change to copy=True in 1.7. Set the value of copy explicitly to avoid this warning\n",
            "  return func(X, **(kw_args if kw_args else {}))\n",
            "/usr/local/lib/python3.10/dist-packages/sklearn/preprocessing/_function_transformer.py:310: FutureWarning: The current default of copy=False will change to copy=True in 1.7. Set the value of copy explicitly to avoid this warning\n",
            "  return func(X, **(kw_args if kw_args else {}))\n",
            "/usr/local/lib/python3.10/dist-packages/sklearn/preprocessing/_function_transformer.py:310: FutureWarning: The current default of copy=False will change to copy=True in 1.7. Set the value of copy explicitly to avoid this warning\n",
            "  return func(X, **(kw_args if kw_args else {}))\n",
            "/usr/local/lib/python3.10/dist-packages/sklearn/preprocessing/_function_transformer.py:310: FutureWarning: The current default of copy=False will change to copy=True in 1.7. Set the value of copy explicitly to avoid this warning\n",
            "  return func(X, **(kw_args if kw_args else {}))\n",
            "/usr/local/lib/python3.10/dist-packages/sklearn/preprocessing/_function_transformer.py:310: FutureWarning: The current default of copy=False will change to copy=True in 1.7. Set the value of copy explicitly to avoid this warning\n",
            "  return func(X, **(kw_args if kw_args else {}))\n",
            "/usr/local/lib/python3.10/dist-packages/sklearn/preprocessing/_function_transformer.py:310: FutureWarning: The current default of copy=False will change to copy=True in 1.7. Set the value of copy explicitly to avoid this warning\n",
            "  return func(X, **(kw_args if kw_args else {}))\n",
            "/usr/local/lib/python3.10/dist-packages/sklearn/preprocessing/_function_transformer.py:310: FutureWarning: The current default of copy=False will change to copy=True in 1.7. Set the value of copy explicitly to avoid this warning\n",
            "  return func(X, **(kw_args if kw_args else {}))\n",
            "/usr/local/lib/python3.10/dist-packages/sklearn/preprocessing/_function_transformer.py:310: FutureWarning: The current default of copy=False will change to copy=True in 1.7. Set the value of copy explicitly to avoid this warning\n",
            "  return func(X, **(kw_args if kw_args else {}))\n",
            "/usr/local/lib/python3.10/dist-packages/sklearn/preprocessing/_function_transformer.py:310: FutureWarning: The current default of copy=False will change to copy=True in 1.7. Set the value of copy explicitly to avoid this warning\n",
            "  return func(X, **(kw_args if kw_args else {}))\n",
            "/usr/local/lib/python3.10/dist-packages/sklearn/preprocessing/_function_transformer.py:310: FutureWarning: The current default of copy=False will change to copy=True in 1.7. Set the value of copy explicitly to avoid this warning\n",
            "  return func(X, **(kw_args if kw_args else {}))\n",
            "BNCI2014-001-CrossSession:  50%|█████     | 1/2 [00:18<00:18, 18.55s/it]Downloading data from 'http://bnci-horizon-2020.eu/database/data-sets/001-2014/A02T.mat' to file '/root/mne_data/MNE-bnci-data/database/data-sets/001-2014/A02T.mat'.\n",
            "/usr/local/lib/python3.10/dist-packages/urllib3/connectionpool.py:1061: InsecureRequestWarning: Unverified HTTPS request is being made to host 'lampx.tugraz.at'. Adding certificate verification is strongly advised. See: https://urllib3.readthedocs.io/en/1.26.x/advanced-usage.html#ssl-warnings\n",
            "  warnings.warn(\n",
            "\n",
            "  0%|                                              | 0.00/43.1M [00:00<?, ?B/s]\u001b[A\n",
            "  0%|                                     | 8.19k/43.1M [00:00<09:12, 78.0kB/s]\u001b[A\n",
            "  0%|                                      | 32.8k/43.1M [00:00<04:32, 158kB/s]\u001b[A\n",
            "  0%|                                      | 96.3k/43.1M [00:00<02:08, 335kB/s]\u001b[A\n",
            "  0%|▏                                      | 193k/43.1M [00:00<01:21, 527kB/s]\u001b[A\n",
            "  1%|▎                                     | 409k/43.1M [00:00<00:42, 1.00MB/s]\u001b[A\n",
            "  2%|▋                                     | 841k/43.1M [00:00<00:22, 1.91MB/s]\u001b[A\n",
            "  4%|█▍                                   | 1.64M/43.1M [00:00<00:11, 3.50MB/s]\u001b[A\n",
            "  8%|██▊                                  | 3.30M/43.1M [00:00<00:05, 6.85MB/s]\u001b[A\n",
            " 14%|█████▎                               | 6.20M/43.1M [00:01<00:02, 12.4MB/s]\u001b[A\n",
            " 20%|███████▍                             | 8.65M/43.1M [00:01<00:02, 14.9MB/s]\u001b[A\n",
            " 26%|█████████▋                           | 11.2M/43.1M [00:01<00:01, 17.1MB/s]\u001b[A\n",
            " 32%|███████████▉                         | 13.9M/43.1M [00:01<00:01, 18.7MB/s]\u001b[A\n",
            " 39%|██████████████▌                      | 17.0M/43.1M [00:01<00:01, 20.9MB/s]\u001b[A\n",
            " 46%|█████████████████                    | 19.8M/43.1M [00:01<00:01, 21.7MB/s]\u001b[A\n",
            " 52%|███████████████████▎                 | 22.5M/43.1M [00:01<00:00, 22.0MB/s]\u001b[A\n",
            " 58%|█████████████████████▋               | 25.2M/43.1M [00:01<00:00, 22.3MB/s]\u001b[A\n",
            " 65%|███████████████████████▉             | 27.9M/43.1M [00:02<00:00, 22.5MB/s]\u001b[A\n",
            " 72%|██████████████████████████▌          | 30.9M/43.1M [00:02<00:00, 23.2MB/s]\u001b[A\n",
            " 78%|████████████████████████████▊        | 33.6M/43.1M [00:02<00:00, 24.2MB/s]\u001b[A\n",
            " 84%|██████████████████████████████▉      | 36.0M/43.1M [00:02<00:00, 23.6MB/s]\u001b[A\n",
            " 89%|████████████████████████████████▉    | 38.4M/43.1M [00:02<00:00, 23.4MB/s]\u001b[A\n",
            " 95%|██████████████████████████████████▉  | 40.7M/43.1M [00:02<00:00, 23.1MB/s]\u001b[A\n",
            "100%|█████████████████████████████████████| 43.1M/43.1M [00:00<00:00, 3.34GB/s]\n",
            "SHA256 hash of downloaded file: 5ddd5cb520b1692c3ba1363f48d98f58f0e46f3699ee50d749947950fc39db27\n",
            "Use this value as the 'known_hash' argument of 'pooch.retrieve' to ensure that the file hasn't changed if it is downloaded again in the future.\n",
            "Downloading data from 'http://bnci-horizon-2020.eu/database/data-sets/001-2014/A02E.mat' to file '/root/mne_data/MNE-bnci-data/database/data-sets/001-2014/A02E.mat'.\n",
            "/usr/local/lib/python3.10/dist-packages/urllib3/connectionpool.py:1061: InsecureRequestWarning: Unverified HTTPS request is being made to host 'lampx.tugraz.at'. Adding certificate verification is strongly advised. See: https://urllib3.readthedocs.io/en/1.26.x/advanced-usage.html#ssl-warnings\n",
            "  warnings.warn(\n",
            "\n",
            "  0%|                                              | 0.00/44.2M [00:00<?, ?B/s]\u001b[A\n",
            "  0%|                                     | 8.19k/44.2M [00:00<09:43, 75.8kB/s]\u001b[A\n",
            "  0%|                                      | 32.8k/44.2M [00:00<04:43, 156kB/s]\u001b[A\n",
            "  0%|                                      | 88.1k/44.2M [00:00<02:26, 301kB/s]\u001b[A\n",
            "  0%|▏                                      | 161k/44.2M [00:00<01:43, 426kB/s]\u001b[A\n",
            "  1%|▎                                      | 337k/44.2M [00:00<00:54, 812kB/s]\u001b[A\n",
            "  2%|▌                                     | 696k/44.2M [00:00<00:27, 1.57MB/s]\u001b[A\n",
            "  3%|█▏                                   | 1.42M/44.2M [00:00<00:13, 3.07MB/s]\u001b[A\n",
            "  5%|██                                   | 2.43M/44.2M [00:00<00:08, 4.81MB/s]\u001b[A\n",
            " 11%|████                                 | 4.89M/44.2M [00:01<00:04, 9.80MB/s]\u001b[A\n",
            " 16%|█████▊                               | 6.90M/44.2M [00:01<00:03, 12.0MB/s]\u001b[A\n",
            " 21%|███████▋                             | 9.25M/44.2M [00:01<00:02, 14.4MB/s]\u001b[A\n",
            " 26%|█████████▌                           | 11.5M/44.2M [00:01<00:02, 15.8MB/s]\u001b[A\n",
            " 31%|███████████▎                         | 13.6M/44.2M [00:01<00:01, 16.3MB/s]\u001b[A\n",
            " 36%|█████████████▏                       | 15.8M/44.2M [00:01<00:01, 17.0MB/s]\u001b[A\n",
            " 41%|███████████████▏                     | 18.1M/44.2M [00:01<00:01, 17.9MB/s]\u001b[A\n",
            " 46%|████████████████▉                    | 20.2M/44.2M [00:01<00:01, 17.8MB/s]\u001b[A\n",
            " 51%|██████████████████▉                  | 22.6M/44.2M [00:02<00:01, 18.4MB/s]\u001b[A\n",
            " 56%|████████████████████▋                | 24.7M/44.2M [00:02<00:01, 18.4MB/s]\u001b[A\n",
            " 61%|██████████████████████▋              | 27.1M/44.2M [00:02<00:00, 18.9MB/s]\u001b[A\n",
            " 66%|████████████████████████▍            | 29.2M/44.2M [00:02<00:00, 18.6MB/s]\u001b[A\n",
            " 71%|██████████████████████████▍          | 31.6M/44.2M [00:02<00:00, 18.9MB/s]\u001b[A\n",
            " 76%|████████████████████████████▎        | 33.8M/44.2M [00:02<00:00, 18.8MB/s]\u001b[A\n",
            " 81%|██████████████████████████████       | 36.0M/44.2M [00:02<00:00, 18.8MB/s]\u001b[A\n",
            " 87%|████████████████████████████████     | 38.3M/44.2M [00:02<00:00, 19.0MB/s]\u001b[A\n",
            " 92%|█████████████████████████████████▉   | 40.6M/44.2M [00:02<00:00, 19.1MB/s]\u001b[A\n",
            " 97%|███████████████████████████████████▉ | 42.9M/44.2M [00:03<00:00, 19.2MB/s]\u001b[A\n",
            "100%|█████████████████████████████████████| 44.2M/44.2M [00:00<00:00, 5.29GB/s]\n",
            "SHA256 hash of downloaded file: d63c454005d3a9b41d8440629482e855afc823339bdd0b5721842a7ee9cc7b12\n",
            "Use this value as the 'known_hash' argument of 'pooch.retrieve' to ensure that the file hasn't changed if it is downloaded again in the future.\n",
            "/usr/local/lib/python3.10/dist-packages/sklearn/preprocessing/_function_transformer.py:310: FutureWarning: The current default of copy=False will change to copy=True in 1.7. Set the value of copy explicitly to avoid this warning\n",
            "  return func(X, **(kw_args if kw_args else {}))\n",
            "/usr/local/lib/python3.10/dist-packages/sklearn/preprocessing/_function_transformer.py:310: FutureWarning: The current default of copy=False will change to copy=True in 1.7. Set the value of copy explicitly to avoid this warning\n",
            "  return func(X, **(kw_args if kw_args else {}))\n",
            "/usr/local/lib/python3.10/dist-packages/sklearn/preprocessing/_function_transformer.py:310: FutureWarning: The current default of copy=False will change to copy=True in 1.7. Set the value of copy explicitly to avoid this warning\n",
            "  return func(X, **(kw_args if kw_args else {}))\n",
            "/usr/local/lib/python3.10/dist-packages/sklearn/preprocessing/_function_transformer.py:310: FutureWarning: The current default of copy=False will change to copy=True in 1.7. Set the value of copy explicitly to avoid this warning\n",
            "  return func(X, **(kw_args if kw_args else {}))\n",
            "/usr/local/lib/python3.10/dist-packages/sklearn/preprocessing/_function_transformer.py:310: FutureWarning: The current default of copy=False will change to copy=True in 1.7. Set the value of copy explicitly to avoid this warning\n",
            "  return func(X, **(kw_args if kw_args else {}))\n",
            "/usr/local/lib/python3.10/dist-packages/sklearn/preprocessing/_function_transformer.py:310: FutureWarning: The current default of copy=False will change to copy=True in 1.7. Set the value of copy explicitly to avoid this warning\n",
            "  return func(X, **(kw_args if kw_args else {}))\n",
            "/usr/local/lib/python3.10/dist-packages/sklearn/preprocessing/_function_transformer.py:310: FutureWarning: The current default of copy=False will change to copy=True in 1.7. Set the value of copy explicitly to avoid this warning\n",
            "  return func(X, **(kw_args if kw_args else {}))\n",
            "/usr/local/lib/python3.10/dist-packages/sklearn/preprocessing/_function_transformer.py:310: FutureWarning: The current default of copy=False will change to copy=True in 1.7. Set the value of copy explicitly to avoid this warning\n",
            "  return func(X, **(kw_args if kw_args else {}))\n",
            "/usr/local/lib/python3.10/dist-packages/sklearn/preprocessing/_function_transformer.py:310: FutureWarning: The current default of copy=False will change to copy=True in 1.7. Set the value of copy explicitly to avoid this warning\n",
            "  return func(X, **(kw_args if kw_args else {}))\n",
            "/usr/local/lib/python3.10/dist-packages/sklearn/preprocessing/_function_transformer.py:310: FutureWarning: The current default of copy=False will change to copy=True in 1.7. Set the value of copy explicitly to avoid this warning\n",
            "  return func(X, **(kw_args if kw_args else {}))\n",
            "/usr/local/lib/python3.10/dist-packages/sklearn/preprocessing/_function_transformer.py:310: FutureWarning: The current default of copy=False will change to copy=True in 1.7. Set the value of copy explicitly to avoid this warning\n",
            "  return func(X, **(kw_args if kw_args else {}))\n",
            "/usr/local/lib/python3.10/dist-packages/sklearn/preprocessing/_function_transformer.py:310: FutureWarning: The current default of copy=False will change to copy=True in 1.7. Set the value of copy explicitly to avoid this warning\n",
            "  return func(X, **(kw_args if kw_args else {}))\n",
            "BNCI2014-001-CrossSession: 100%|██████████| 2/2 [00:35<00:00, 17.71s/it]\n"
          ]
        },
        {
          "output_type": "stream",
          "name": "stdout",
          "text": [
            "      score      time  samples subject session  channels  n_sessions  \\\n",
            "0  0.943287  0.773068    144.0       1  0train        22           2   \n",
            "1  0.938368  0.714959    144.0       1   1test        22           2   \n",
            "2  0.532697  0.795927    144.0       2  0train        22           2   \n",
            "3  0.582851  1.023921    144.0       2   1test        22           2   \n",
            "4  0.950424  0.327822    144.0       1  0train        22           2   \n",
            "\n",
            "        dataset pipeline  \n",
            "0  BNCI2014-001   CSP+RF  \n",
            "1  BNCI2014-001   CSP+RF  \n",
            "2  BNCI2014-001   CSP+RF  \n",
            "3  BNCI2014-001   CSP+RF  \n",
            "4  BNCI2014-001    RG+LR  \n"
          ]
        }
      ],
      "source": [
        "paradigm = LeftRightImagery()\n",
        "# Because this is being auto-generated we only use 2 subjects\n",
        "dataset = BNCI2014_001()\n",
        "dataset.subject_list = dataset.subject_list[:2]\n",
        "datasets = [dataset]\n",
        "overwrite = False  # set to True if we want to overwrite cached results\n",
        "evaluation = CrossSessionEvaluation(\n",
        "    paradigm=paradigm, datasets=datasets, suffix=\"examples\", overwrite=overwrite\n",
        ")\n",
        "\n",
        "results = evaluation.process(pipelines)\n",
        "\n",
        "print(results.head())"
      ]
    },
    {
      "cell_type": "markdown",
      "metadata": {
        "id": "PLKjtKjHs_j4"
      },
      "source": [
        "## Plot Results\n",
        "\n",
        "Here we plot the results. We first make a pointplot with the average\n",
        "performance of each pipeline across session and subjects.\n",
        "The second plot is a paired scatter plot. Each point representing the score\n",
        "of a single session. An algorithm will outperform another is most of the\n",
        "points are in its quadrant.\n",
        "\n"
      ]
    },
    {
      "cell_type": "code",
      "execution_count": 13,
      "metadata": {
        "id": "HkiSTnuos_j4",
        "colab": {
          "base_uri": "https://localhost:8080/",
          "height": 436
        },
        "outputId": "086da6ef-909e-4aec-cb49-cf13485096fb"
      },
      "outputs": [
        {
          "output_type": "stream",
          "name": "stderr",
          "text": [
            "<ipython-input-13-310a2a4a10bb>:3: FutureWarning: Passing `palette` without assigning `hue` is deprecated.\n",
            "  sns.stripplot(\n"
          ]
        },
        {
          "output_type": "display_data",
          "data": {
            "text/plain": [
              "<Figure size 800x400 with 2 Axes>"
            ],
            "image/png": "[encoded data removed]"
          },
          "metadata": {}
        }
      ],
      "source": [
        "fig, axes = plt.subplots(1, 2, figsize=[8, 4], sharey=True)\n",
        "\n",
        "sns.stripplot(\n",
        "    data=results,\n",
        "    y=\"score\",\n",
        "    x=\"pipeline\",\n",
        "    ax=axes[0],\n",
        "    jitter=True,\n",
        "    alpha=0.5,\n",
        "    zorder=1,\n",
        "    palette=\"Set1\",\n",
        ")\n",
        "sns.pointplot(data=results, y=\"score\", x=\"pipeline\", ax=axes[0], palette=\"Set1\")\n",
        "\n",
        "axes[0].set_ylabel(\"ROC AUC\")\n",
        "axes[0].set_ylim(0.5, 1)\n",
        "\n",
        "paired = results.pivot_table(\n",
        "    values=\"score\", columns=\"pipeline\", index=[\"subject\", \"session\"]\n",
        ")\n",
        "paired = paired.reset_index()\n",
        "\n",
        "sns.regplot(data=paired, y=\"RG+LR\", x=\"CSP+LDA\", ax=axes[1], fit_reg=False)\n",
        "axes[1].plot([0, 1], [0, 1], ls=\"--\", c=\"k\")\n",
        "axes[1].set_xlim(0.5, 1)\n",
        "\n",
        "plt.show()"
      ]
    },
    {
      "cell_type": "code",
      "source": [],
      "metadata": {
        "id": "VF0AR0s7blDE"
      },
      "execution_count": 25,
      "outputs": []
    },
    {
      "cell_type": "code",
      "source": [
        "dataset = BNCI2014_001()\n",
        "dataset.subject_list = [1, 2, 3]"
      ],
      "metadata": {
        "id": "IZlmL5XUblhu"
      },
      "execution_count": 18,
      "outputs": []
    },
    {
      "cell_type": "code",
      "source": [
        "sessions = dataset.get_data(subjects=[1])"
      ],
      "metadata": {
        "id": "zY4ZjBa1dCi_"
      },
      "execution_count": 19,
      "outputs": []
    },
    {
      "cell_type": "code",
      "source": [
        "subject = 1\n",
        "session_name = \"0train\"\n",
        "run_name = \"0\"\n",
        "raw = sessions[subject][session_name][run_name]"
      ],
      "metadata": {
        "id": "MtxCDYv_dFZU"
      },
      "execution_count": 20,
      "outputs": []
    },
    {
      "cell_type": "code",
      "source": [
        "print(dataset.paradigm)"
      ],
      "metadata": {
        "colab": {
          "base_uri": "https://localhost:8080/"
        },
        "id": "ZIQlFzBVdKD6",
        "outputId": "95a90140-e4c3-4866-8458-b9e8d73be607"
      },
      "execution_count": 21,
      "outputs": [
        {
          "output_type": "stream",
          "name": "stdout",
          "text": [
            "imagery\n"
          ]
        }
      ]
    },
    {
      "cell_type": "code",
      "source": [
        "paradigm = LeftRightImagery()"
      ],
      "metadata": {
        "id": "GnJGQNRxdNDp"
      },
      "execution_count": 22,
      "outputs": []
    },
    {
      "cell_type": "code",
      "source": [
        "X, labels, meta = paradigm.get_data(dataset=dataset, subjects=[1])"
      ],
      "metadata": {
        "colab": {
          "base_uri": "https://localhost:8080/"
        },
        "id": "hpfuGbbLdRAR",
        "outputId": "643b1419-597d-41de-e3b0-e350615ce18b"
      },
      "execution_count": 23,
      "outputs": [
        {
          "output_type": "stream",
          "name": "stderr",
          "text": [
            "/usr/local/lib/python3.10/dist-packages/sklearn/preprocessing/_function_transformer.py:310: FutureWarning: The current default of copy=False will change to copy=True in 1.7. Set the value of copy explicitly to avoid this warning\n",
            "  return func(X, **(kw_args if kw_args else {}))\n",
            "/usr/local/lib/python3.10/dist-packages/sklearn/preprocessing/_function_transformer.py:310: FutureWarning: The current default of copy=False will change to copy=True in 1.7. Set the value of copy explicitly to avoid this warning\n",
            "  return func(X, **(kw_args if kw_args else {}))\n",
            "/usr/local/lib/python3.10/dist-packages/sklearn/preprocessing/_function_transformer.py:310: FutureWarning: The current default of copy=False will change to copy=True in 1.7. Set the value of copy explicitly to avoid this warning\n",
            "  return func(X, **(kw_args if kw_args else {}))\n",
            "/usr/local/lib/python3.10/dist-packages/sklearn/preprocessing/_function_transformer.py:310: FutureWarning: The current default of copy=False will change to copy=True in 1.7. Set the value of copy explicitly to avoid this warning\n",
            "  return func(X, **(kw_args if kw_args else {}))\n",
            "/usr/local/lib/python3.10/dist-packages/sklearn/preprocessing/_function_transformer.py:310: FutureWarning: The current default of copy=False will change to copy=True in 1.7. Set the value of copy explicitly to avoid this warning\n",
            "  return func(X, **(kw_args if kw_args else {}))\n",
            "/usr/local/lib/python3.10/dist-packages/sklearn/preprocessing/_function_transformer.py:310: FutureWarning: The current default of copy=False will change to copy=True in 1.7. Set the value of copy explicitly to avoid this warning\n",
            "  return func(X, **(kw_args if kw_args else {}))\n",
            "/usr/local/lib/python3.10/dist-packages/sklearn/preprocessing/_function_transformer.py:310: FutureWarning: The current default of copy=False will change to copy=True in 1.7. Set the value of copy explicitly to avoid this warning\n",
            "  return func(X, **(kw_args if kw_args else {}))\n",
            "/usr/local/lib/python3.10/dist-packages/sklearn/preprocessing/_function_transformer.py:310: FutureWarning: The current default of copy=False will change to copy=True in 1.7. Set the value of copy explicitly to avoid this warning\n",
            "  return func(X, **(kw_args if kw_args else {}))\n",
            "/usr/local/lib/python3.10/dist-packages/sklearn/preprocessing/_function_transformer.py:310: FutureWarning: The current default of copy=False will change to copy=True in 1.7. Set the value of copy explicitly to avoid this warning\n",
            "  return func(X, **(kw_args if kw_args else {}))\n",
            "/usr/local/lib/python3.10/dist-packages/sklearn/preprocessing/_function_transformer.py:310: FutureWarning: The current default of copy=False will change to copy=True in 1.7. Set the value of copy explicitly to avoid this warning\n",
            "  return func(X, **(kw_args if kw_args else {}))\n",
            "/usr/local/lib/python3.10/dist-packages/sklearn/preprocessing/_function_transformer.py:310: FutureWarning: The current default of copy=False will change to copy=True in 1.7. Set the value of copy explicitly to avoid this warning\n",
            "  return func(X, **(kw_args if kw_args else {}))\n",
            "/usr/local/lib/python3.10/dist-packages/sklearn/preprocessing/_function_transformer.py:310: FutureWarning: The current default of copy=False will change to copy=True in 1.7. Set the value of copy explicitly to avoid this warning\n",
            "  return func(X, **(kw_args if kw_args else {}))\n"
          ]
        }
      ]
    },
    {
      "cell_type": "code",
      "source": [
        "fig, ax = plt.subplots(figsize=(8, 7))\n",
        "results[\"subj\"] = results[\"subject\"].apply(str)\n",
        "sns.barplot(\n",
        "    x=\"score\", y=\"subj\", hue=\"session\", data=results, orient=\"h\", palette=\"viridis\", ax=ax\n",
        ")\n",
        "plt.show()"
      ],
      "metadata": {
        "colab": {
          "base_uri": "https://localhost:8080/",
          "height": 625
        },
        "id": "Pm1xTkpYdTvr",
        "outputId": "b4c0fa4d-71a1-46f8-9081-8be5eb17aa39"
      },
      "execution_count": 24,
      "outputs": [
        {
          "output_type": "display_data",
          "data": {
            "text/plain": [
              "<Figure size 800x700 with 1 Axes>"
            ],
            "image/png": "[encoded data removed]"
          },
          "metadata": {}
        }
      ]
    },
    {
      "cell_type": "code",
      "source": [],
      "metadata": {
        "id": "JNEgoq0gdao9"
      },
      "execution_count": 30,
      "outputs": []
    },
    {
      "cell_type": "code",
      "source": [],
      "metadata": {
        "id": "eJd7DHqedoPd"
      },
      "execution_count": null,
      "outputs": []
    }
  ],
  "metadata": {
    "colab": {
      "provenance": [],
      "include_colab_link": true
    },
    "kernelspec": {
      "display_name": "Python 3",
      "language": "python",
      "name": "python3"
    },
    "language_info": {
      "codemirror_mode": {
        "name": "ipython",
        "version": 3
      },
      "file_extension": ".py",
      "mimetype": "text/x-python",
      "name": "python",
      "nbconvert_exporter": "python",
      "pygments_lexer": "ipython3",
      "version": "3.9.18"
    }
  },
  "nbformat": 4,
  "nbformat_minor": 0
}